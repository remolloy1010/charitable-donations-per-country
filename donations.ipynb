{
 "cells": [
  {
   "cell_type": "code",
   "execution_count": 1,
   "metadata": {},
   "outputs": [
    {
     "ename": "SyntaxError",
     "evalue": "invalid syntax (<ipython-input-1-9122f69d8815>, line 1)",
     "output_type": "error",
     "traceback": [
      "\u001b[0;36m  File \u001b[0;32m\"<ipython-input-1-9122f69d8815>\"\u001b[0;36m, line \u001b[0;32m1\u001b[0m\n\u001b[0;31m    initialize_data <- function(){\u001b[0m\n\u001b[0m                                 ^\u001b[0m\n\u001b[0;31mSyntaxError\u001b[0m\u001b[0;31m:\u001b[0m invalid syntax\n"
     ]
    }
   ],
   "source": [
    "initialize_data <- function(){\n",
    "  # Install API key to get access to census data\n",
    "  # Source: https://api.census.gov/data/key_signup.html\n",
    "  api.key.install(key=\"0b5de1b0030f5b45d191c313a872de3a1ba1c362\")\n",
    "  \n",
    "  ### Fetch spatial shapefile for giving area ###\n",
    "  # Find state and county codes from ACS package with geo.lookup\n",
    "  geo.lookup(state=\"UT\", place=\"Sandy\") # To find which county a city is a part of\n",
    "  geo.lookup(state=\"UT\", county=\"Salt Lake County\") # To find FIPS codes for state and county\n",
    "  \n",
    "  # From tigris package; finds FIPS code for state and county\n",
    "  lookup_code(state=\"UT\",county=\"Salt Lake County\")\n",
    "  \n",
    "  # Find spatial shapefile data using tracts from tigris\n",
    "  shapefile <- tracts(state='49', county='035')\n",
    "  plot(shapefile)\n",
    "  \n",
    "  \n",
    "  census_api_key(\"37ac73a1c944172445bf6a7366224526db63ac38\", overwrite=TRUE)\n",
    "  \n",
    "  # Viewing census data variables:\n",
    "  v17 <- load_variables(2017, \"acs5\", cache = TRUE)\n",
    "}"
   ]
  },
  {
   "cell_type": "code",
   "execution_count": null,
   "metadata": {},
   "outputs": [],
   "source": []
  }
 ],
 "metadata": {
  "kernelspec": {
   "display_name": "Python 3",
   "language": "python",
   "name": "python3"
  },
  "language_info": {
   "codemirror_mode": {
    "name": "ipython",
    "version": 3
   },
   "file_extension": ".py",
   "mimetype": "text/x-python",
   "name": "python",
   "nbconvert_exporter": "python",
   "pygments_lexer": "ipython3",
   "version": "3.7.6"
  }
 },
 "nbformat": 4,
 "nbformat_minor": 4
}
